{
 "cells": [
  {
   "cell_type": "code",
   "execution_count": 1,
   "id": "438b9a01",
   "metadata": {},
   "outputs": [],
   "source": [
    "# import libraries\n",
    "import matplotlib.pyplot as plt\n",
    "import pandas as pd\n",
    "import csv\n",
    "import time\n",
    "import os\n",
    "import numpy as np\n",
    "from sklearn.linear_model import LinearRegression\n",
    "from sklearn import metrics\n",
    "import seaborn as seabornInstance\n",
    "import statsmodels.api as sm\n",
    "from sklearn.model_selection import train_test_split\n",
    "from sklearn.metrics import classification_report, confusion_matrix,mean_squared_error,r2_score\n",
    "from sklearn.linear_model import Lasso\n",
    "from sklearn.preprocessing import StandardScaler\n",
    "from sklearn.linear_model import LassoLarsIC\n",
    "from sklearn.pipeline import make_pipeline\n",
    "from sklearn.model_selection import cross_validate\n",
    "from sklearn.metrics import make_scorer"
   ]
  },
  {
   "cell_type": "code",
   "execution_count": 3,
   "id": "de6727b9",
   "metadata": {},
   "outputs": [
    {
     "data": {
      "text/plain": [
       "(398, 8)"
      ]
     },
     "execution_count": 3,
     "metadata": {},
     "output_type": "execute_result"
    }
   ],
   "source": [
    "# read data\n",
    "df = pd.read_csv(\"sample_data.csv\")\n",
    "df = df.iloc[:,1:]\n",
    "df.shape"
   ]
  },
  {
   "cell_type": "code",
   "execution_count": 4,
   "id": "764f3a7b",
   "metadata": {},
   "outputs": [
    {
     "name": "stdout",
     "output_type": "stream",
     "text": [
      "<class 'pandas.core.frame.DataFrame'>\n",
      "RangeIndex: 398 entries, 0 to 397\n",
      "Data columns (total 8 columns):\n",
      " #   Column        Non-Null Count  Dtype  \n",
      "---  ------        --------------  -----  \n",
      " 0   mpg           398 non-null    float64\n",
      " 1   cylinders     398 non-null    int64  \n",
      " 2   displacement  398 non-null    float64\n",
      " 3   horsepower    398 non-null    float64\n",
      " 4   weight        398 non-null    int64  \n",
      " 5   acceleration  398 non-null    float64\n",
      " 6   model year    398 non-null    int64  \n",
      " 7   origin        398 non-null    int64  \n",
      "dtypes: float64(4), int64(4)\n",
      "memory usage: 25.0 KB\n"
     ]
    }
   ],
   "source": [
    "# get data types\n",
    "df.info()"
   ]
  },
  {
   "cell_type": "code",
   "execution_count": 5,
   "id": "4d4d5d4d",
   "metadata": {},
   "outputs": [
    {
     "data": {
      "text/html": [
       "<div>\n",
       "<style scoped>\n",
       "    .dataframe tbody tr th:only-of-type {\n",
       "        vertical-align: middle;\n",
       "    }\n",
       "\n",
       "    .dataframe tbody tr th {\n",
       "        vertical-align: top;\n",
       "    }\n",
       "\n",
       "    .dataframe thead th {\n",
       "        text-align: right;\n",
       "    }\n",
       "</style>\n",
       "<table border=\"1\" class=\"dataframe\">\n",
       "  <thead>\n",
       "    <tr style=\"text-align: right;\">\n",
       "      <th></th>\n",
       "      <th>mpg</th>\n",
       "      <th>cylinders</th>\n",
       "      <th>displacement</th>\n",
       "      <th>horsepower</th>\n",
       "      <th>weight</th>\n",
       "      <th>acceleration</th>\n",
       "      <th>model year</th>\n",
       "      <th>origin</th>\n",
       "    </tr>\n",
       "  </thead>\n",
       "  <tbody>\n",
       "    <tr>\n",
       "      <th>count</th>\n",
       "      <td>398.000000</td>\n",
       "      <td>398.000000</td>\n",
       "      <td>398.000000</td>\n",
       "      <td>398.000000</td>\n",
       "      <td>398.000000</td>\n",
       "      <td>398.000000</td>\n",
       "      <td>398.000000</td>\n",
       "      <td>398.000000</td>\n",
       "    </tr>\n",
       "    <tr>\n",
       "      <th>mean</th>\n",
       "      <td>23.514573</td>\n",
       "      <td>5.454774</td>\n",
       "      <td>193.425879</td>\n",
       "      <td>104.304020</td>\n",
       "      <td>2970.424623</td>\n",
       "      <td>15.568090</td>\n",
       "      <td>76.010050</td>\n",
       "      <td>1.572864</td>\n",
       "    </tr>\n",
       "    <tr>\n",
       "      <th>std</th>\n",
       "      <td>7.815984</td>\n",
       "      <td>1.701004</td>\n",
       "      <td>104.269838</td>\n",
       "      <td>38.222625</td>\n",
       "      <td>846.841774</td>\n",
       "      <td>2.757689</td>\n",
       "      <td>3.697627</td>\n",
       "      <td>0.802055</td>\n",
       "    </tr>\n",
       "    <tr>\n",
       "      <th>min</th>\n",
       "      <td>9.000000</td>\n",
       "      <td>3.000000</td>\n",
       "      <td>68.000000</td>\n",
       "      <td>46.000000</td>\n",
       "      <td>1613.000000</td>\n",
       "      <td>8.000000</td>\n",
       "      <td>70.000000</td>\n",
       "      <td>1.000000</td>\n",
       "    </tr>\n",
       "    <tr>\n",
       "      <th>25%</th>\n",
       "      <td>17.500000</td>\n",
       "      <td>4.000000</td>\n",
       "      <td>104.250000</td>\n",
       "      <td>76.000000</td>\n",
       "      <td>2223.750000</td>\n",
       "      <td>13.825000</td>\n",
       "      <td>73.000000</td>\n",
       "      <td>1.000000</td>\n",
       "    </tr>\n",
       "    <tr>\n",
       "      <th>50%</th>\n",
       "      <td>23.000000</td>\n",
       "      <td>4.000000</td>\n",
       "      <td>148.500000</td>\n",
       "      <td>93.500000</td>\n",
       "      <td>2803.500000</td>\n",
       "      <td>15.500000</td>\n",
       "      <td>76.000000</td>\n",
       "      <td>1.000000</td>\n",
       "    </tr>\n",
       "    <tr>\n",
       "      <th>75%</th>\n",
       "      <td>29.000000</td>\n",
       "      <td>8.000000</td>\n",
       "      <td>262.000000</td>\n",
       "      <td>125.000000</td>\n",
       "      <td>3608.000000</td>\n",
       "      <td>17.175000</td>\n",
       "      <td>79.000000</td>\n",
       "      <td>2.000000</td>\n",
       "    </tr>\n",
       "    <tr>\n",
       "      <th>max</th>\n",
       "      <td>46.600000</td>\n",
       "      <td>8.000000</td>\n",
       "      <td>455.000000</td>\n",
       "      <td>230.000000</td>\n",
       "      <td>5140.000000</td>\n",
       "      <td>24.800000</td>\n",
       "      <td>82.000000</td>\n",
       "      <td>3.000000</td>\n",
       "    </tr>\n",
       "  </tbody>\n",
       "</table>\n",
       "</div>"
      ],
      "text/plain": [
       "              mpg   cylinders  displacement  horsepower       weight  \\\n",
       "count  398.000000  398.000000    398.000000  398.000000   398.000000   \n",
       "mean    23.514573    5.454774    193.425879  104.304020  2970.424623   \n",
       "std      7.815984    1.701004    104.269838   38.222625   846.841774   \n",
       "min      9.000000    3.000000     68.000000   46.000000  1613.000000   \n",
       "25%     17.500000    4.000000    104.250000   76.000000  2223.750000   \n",
       "50%     23.000000    4.000000    148.500000   93.500000  2803.500000   \n",
       "75%     29.000000    8.000000    262.000000  125.000000  3608.000000   \n",
       "max     46.600000    8.000000    455.000000  230.000000  5140.000000   \n",
       "\n",
       "       acceleration  model year      origin  \n",
       "count    398.000000  398.000000  398.000000  \n",
       "mean      15.568090   76.010050    1.572864  \n",
       "std        2.757689    3.697627    0.802055  \n",
       "min        8.000000   70.000000    1.000000  \n",
       "25%       13.825000   73.000000    1.000000  \n",
       "50%       15.500000   76.000000    1.000000  \n",
       "75%       17.175000   79.000000    2.000000  \n",
       "max       24.800000   82.000000    3.000000  "
      ]
     },
     "execution_count": 5,
     "metadata": {},
     "output_type": "execute_result"
    }
   ],
   "source": [
    "# descirbe data\n",
    "df.describe()"
   ]
  },
  {
   "cell_type": "code",
   "execution_count": 6,
   "id": "a37280ed",
   "metadata": {},
   "outputs": [
    {
     "data": {
      "text/plain": [
       "mpg             0\n",
       "cylinders       0\n",
       "displacement    0\n",
       "horsepower      0\n",
       "weight          0\n",
       "acceleration    0\n",
       "model year      0\n",
       "origin          0\n",
       "dtype: int64"
      ]
     },
     "execution_count": 6,
     "metadata": {},
     "output_type": "execute_result"
    }
   ],
   "source": [
    "# check NA values\n",
    "df.isna().sum()"
   ]
  },
  {
   "cell_type": "markdown",
   "id": "a319d957",
   "metadata": {},
   "source": [
    "### Exploratory Data Analysis"
   ]
  },
  {
   "cell_type": "code",
   "execution_count": 7,
   "id": "ce9ce620",
   "metadata": {},
   "outputs": [
    {
     "data": {
      "text/plain": [
       "[Text(0.5, 0, 'acceleration'), Text(0, 0.5, 'mpg')]"
      ]
     },
     "execution_count": 7,
     "metadata": {},
     "output_type": "execute_result"
    },
    {
     "data": {
      "image/png": "[encoded data removed]",
      "text/plain": [
       "<Figure size 1080x720 with 4 Axes>"
      ]
     },
     "metadata": {
      "needs_background": "light"
     },
     "output_type": "display_data"
    }
   ],
   "source": [
    "# data visualization\n",
    "fig, axs = plt.subplots(nrows = 2,ncols =2, figsize = (15,10))\n",
    "\n",
    "axs[0,0].scatter(df['displacement'], df['mpg'])\n",
    "axs[0,0].set_title('mpg vs displacement')\n",
    "axs[0,0].set(xlabel='displacement', ylabel='mpg')\n",
    "\n",
    "axs[0,1].scatter(df['horsepower'], df['mpg'])\n",
    "axs[0,1].set_title('mpg vs horsepower')\n",
    "axs[0,1].set(xlabel='horsepower', ylabel='mpg')\n",
    "\n",
    "axs[1,0].scatter(df['weight'], df['mpg'])\n",
    "axs[1,0].set_title('mpg vs weight')\n",
    "axs[1,0].set(xlabel='weight', ylabel='mpg')\n",
    "\n",
    "axs[1,1].scatter(df['acceleration'], df['mpg'])\n",
    "axs[1,1].set_title('mpg vs acceleration')\n",
    "axs[1,1].set(xlabel='acceleration', ylabel='mpg')\n"
   ]
  },
  {
   "cell_type": "code",
   "execution_count": 8,
   "id": "099d4347",
   "metadata": {},
   "outputs": [
    {
     "data": {
      "text/plain": [
       "<AxesSubplot:xlabel='origin', ylabel='mpg'>"
      ]
     },
     "execution_count": 8,
     "metadata": {},
     "output_type": "execute_result"
    },
    {
     "data": {
      "image/png": "[encoded data removed]",
      "text/plain": [
       "<Figure size 1296x360 with 3 Axes>"
      ]
     },
     "metadata": {
      "needs_background": "light"
     },
     "output_type": "display_data"
    }
   ],
   "source": [
    "fig, axs = plt.subplots(nrows = 1,ncols =3, figsize = (18,5))\n",
    "\n",
    "seabornInstance.boxplot(x='cylinders', y='mpg', data=df, ax=fig.axes[0])\n",
    "seabornInstance.boxplot(x='model year', y='mpg', data=df, ax=fig.axes[1])\n",
    "seabornInstance.boxplot(x='origin', y='mpg', data=df, ax=fig.axes[2])"
   ]
  },
  {
   "cell_type": "code",
   "execution_count": 9,
   "id": "1136d36e",
   "metadata": {},
   "outputs": [
    {
     "data": {
      "text/html": [
       "<div>\n",
       "<style scoped>\n",
       "    .dataframe tbody tr th:only-of-type {\n",
       "        vertical-align: middle;\n",
       "    }\n",
       "\n",
       "    .dataframe tbody tr th {\n",
       "        vertical-align: top;\n",
       "    }\n",
       "\n",
       "    .dataframe thead th {\n",
       "        text-align: right;\n",
       "    }\n",
       "</style>\n",
       "<table border=\"1\" class=\"dataframe\">\n",
       "  <thead>\n",
       "    <tr style=\"text-align: right;\">\n",
       "      <th></th>\n",
       "      <th>mpg</th>\n",
       "      <th>cylinders</th>\n",
       "      <th>displacement</th>\n",
       "      <th>horsepower</th>\n",
       "      <th>weight</th>\n",
       "      <th>acceleration</th>\n",
       "      <th>model year</th>\n",
       "      <th>origin</th>\n",
       "    </tr>\n",
       "  </thead>\n",
       "  <tbody>\n",
       "    <tr>\n",
       "      <th>mpg</th>\n",
       "      <td>1.000000</td>\n",
       "      <td>-0.775396</td>\n",
       "      <td>-0.804203</td>\n",
       "      <td>-0.773453</td>\n",
       "      <td>-0.831741</td>\n",
       "      <td>0.420289</td>\n",
       "      <td>0.579267</td>\n",
       "      <td>0.563450</td>\n",
       "    </tr>\n",
       "    <tr>\n",
       "      <th>cylinders</th>\n",
       "      <td>-0.775396</td>\n",
       "      <td>1.000000</td>\n",
       "      <td>0.950721</td>\n",
       "      <td>0.841284</td>\n",
       "      <td>0.896017</td>\n",
       "      <td>-0.505419</td>\n",
       "      <td>-0.348746</td>\n",
       "      <td>-0.562543</td>\n",
       "    </tr>\n",
       "    <tr>\n",
       "      <th>displacement</th>\n",
       "      <td>-0.804203</td>\n",
       "      <td>0.950721</td>\n",
       "      <td>1.000000</td>\n",
       "      <td>0.895778</td>\n",
       "      <td>0.932824</td>\n",
       "      <td>-0.543684</td>\n",
       "      <td>-0.370164</td>\n",
       "      <td>-0.609409</td>\n",
       "    </tr>\n",
       "    <tr>\n",
       "      <th>horsepower</th>\n",
       "      <td>-0.773453</td>\n",
       "      <td>0.841284</td>\n",
       "      <td>0.895778</td>\n",
       "      <td>1.000000</td>\n",
       "      <td>0.862442</td>\n",
       "      <td>-0.686590</td>\n",
       "      <td>-0.413733</td>\n",
       "      <td>-0.452096</td>\n",
       "    </tr>\n",
       "    <tr>\n",
       "      <th>weight</th>\n",
       "      <td>-0.831741</td>\n",
       "      <td>0.896017</td>\n",
       "      <td>0.932824</td>\n",
       "      <td>0.862442</td>\n",
       "      <td>1.000000</td>\n",
       "      <td>-0.417457</td>\n",
       "      <td>-0.306564</td>\n",
       "      <td>-0.581024</td>\n",
       "    </tr>\n",
       "    <tr>\n",
       "      <th>acceleration</th>\n",
       "      <td>0.420289</td>\n",
       "      <td>-0.505419</td>\n",
       "      <td>-0.543684</td>\n",
       "      <td>-0.686590</td>\n",
       "      <td>-0.417457</td>\n",
       "      <td>1.000000</td>\n",
       "      <td>0.288137</td>\n",
       "      <td>0.205873</td>\n",
       "    </tr>\n",
       "    <tr>\n",
       "      <th>model year</th>\n",
       "      <td>0.579267</td>\n",
       "      <td>-0.348746</td>\n",
       "      <td>-0.370164</td>\n",
       "      <td>-0.413733</td>\n",
       "      <td>-0.306564</td>\n",
       "      <td>0.288137</td>\n",
       "      <td>1.000000</td>\n",
       "      <td>0.180662</td>\n",
       "    </tr>\n",
       "    <tr>\n",
       "      <th>origin</th>\n",
       "      <td>0.563450</td>\n",
       "      <td>-0.562543</td>\n",
       "      <td>-0.609409</td>\n",
       "      <td>-0.452096</td>\n",
       "      <td>-0.581024</td>\n",
       "      <td>0.205873</td>\n",
       "      <td>0.180662</td>\n",
       "      <td>1.000000</td>\n",
       "    </tr>\n",
       "  </tbody>\n",
       "</table>\n",
       "</div>"
      ],
      "text/plain": [
       "                   mpg  cylinders  displacement  horsepower    weight  \\\n",
       "mpg           1.000000  -0.775396     -0.804203   -0.773453 -0.831741   \n",
       "cylinders    -0.775396   1.000000      0.950721    0.841284  0.896017   \n",
       "displacement -0.804203   0.950721      1.000000    0.895778  0.932824   \n",
       "horsepower   -0.773453   0.841284      0.895778    1.000000  0.862442   \n",
       "weight       -0.831741   0.896017      0.932824    0.862442  1.000000   \n",
       "acceleration  0.420289  -0.505419     -0.543684   -0.686590 -0.417457   \n",
       "model year    0.579267  -0.348746     -0.370164   -0.413733 -0.306564   \n",
       "origin        0.563450  -0.562543     -0.609409   -0.452096 -0.581024   \n",
       "\n",
       "              acceleration  model year    origin  \n",
       "mpg               0.420289    0.579267  0.563450  \n",
       "cylinders        -0.505419   -0.348746 -0.562543  \n",
       "displacement     -0.543684   -0.370164 -0.609409  \n",
       "horsepower       -0.686590   -0.413733 -0.452096  \n",
       "weight           -0.417457   -0.306564 -0.581024  \n",
       "acceleration      1.000000    0.288137  0.205873  \n",
       "model year        0.288137    1.000000  0.180662  \n",
       "origin            0.205873    0.180662  1.000000  "
      ]
     },
     "execution_count": 9,
     "metadata": {},
     "output_type": "execute_result"
    }
   ],
   "source": [
    "# check correlation\n",
    "df.corr()"
   ]
  },
  {
   "cell_type": "markdown",
   "id": "34d765f7",
   "metadata": {},
   "source": [
    "We can see that cylinders, displacement, horsepower and weight share high correlation coefficients with each other.   \n",
    "Cylinders and Displacement - 0.95   \n",
    "Weight and Displacement - 0.93   \n",
    "HP and Displacement - 0.89    \n",
    "We can drop cylinders because of it's very high correlation with displacement. "
   ]
  },
  {
   "cell_type": "markdown",
   "id": "f7b6b5b2",
   "metadata": {},
   "source": [
    "### Lasso Regression Model"
   ]
  },
  {
   "cell_type": "code",
   "execution_count": 10,
   "id": "65e80751",
   "metadata": {},
   "outputs": [],
   "source": [
    "# Get Parameters and Target \n",
    "#dms = pd.get_dummies(df[['origin']])\n",
    "y = df[\"mpg\"]\n",
    "x = df.drop(['mpg', 'cylinders'], axis=1)\n",
    "\n",
    "# define model- using default lambda value of 1\n",
    "lasso_model = make_pipeline(StandardScaler(),Lasso(alpha=1.0))"
   ]
  },
  {
   "cell_type": "code",
   "execution_count": 11,
   "id": "24c063da",
   "metadata": {},
   "outputs": [
    {
     "name": "stdout",
     "output_type": "stream",
     "text": [
      "Residual sum of squares 5024.9217948986725 \n",
      "\n",
      "Mean Squared Error on prediction 3.968892281244381 \n",
      "\n",
      "R squared 0.7497881417542271\n"
     ]
    }
   ],
   "source": [
    "# 20% training data\n",
    "x_train20, x_test80, y_train20, y_test80 = train_test_split(x, y,\n",
    "                                                            train_size=0.20,random_state=100)\n",
    "\n",
    "\n",
    "# fit model\n",
    "model_1a = lasso_model.fit(x_train20, y_train20)\n",
    "\n",
    "# prediction\n",
    "y_pred80 = model_1a.predict(x_test80)\n",
    "print(\"Residual sum of squares\", sum((y_pred80-y_test80)**2), \"\\n\")\n",
    "print(\"Mean Squared Error on prediction\",np.sqrt(mean_squared_error(y_test80,y_pred80)),\"\\n\")\n",
    "print(\"R squared\", r2_score(y_test80, y_pred80))"
   ]
  },
  {
   "cell_type": "code",
   "execution_count": 12,
   "id": "4b46cf3c",
   "metadata": {},
   "outputs": [
    {
     "name": "stdout",
     "output_type": "stream",
     "text": [
      "Residual sum of squares 1077.9578231372764 \n",
      "\n",
      "Mean Squared Error on prediction 3.6707591570703677 \n",
      "\n",
      "R squared 0.7671749523499062\n"
     ]
    }
   ],
   "source": [
    "# 80% training data\n",
    "x_train80, x_test20, y_train80, y_test20 = train_test_split(x, y,\n",
    "                                                            train_size=0.80,random_state=101)\n",
    "\n",
    "# fit model\n",
    "model_1b = lasso_model.fit(x_train80, y_train80)\n",
    "\n",
    "# prediction\n",
    "y_pred20 = model_1b.predict(x_test20)\n",
    "print(\"Residual sum of squares\", sum((y_pred20-y_test20)**2), \"\\n\")\n",
    "print(\"Mean Squared Error on prediction\",np.sqrt(mean_squared_error(y_test20,y_pred20)),\"\\n\")\n",
    "print(\"R squared\", r2_score(y_test20, y_pred20))"
   ]
  },
  {
   "cell_type": "markdown",
   "id": "5a97ee15",
   "metadata": {},
   "source": [
    "We have created the models for 2 types of training sets and observe that mean squared error and r squared values are almost similar. "
   ]
  },
  {
   "cell_type": "markdown",
   "id": "c10e8f38",
   "metadata": {},
   "source": [
    "### Comparing models using AIC and BIC"
   ]
  },
  {
   "cell_type": "code",
   "execution_count": 13,
   "id": "d7ec8380",
   "metadata": {},
   "outputs": [],
   "source": [
    "# highligh min alpha value\n",
    "def highlight_min_alpha(x):\n",
    "    x_min = x.min()\n",
    "    return [\"font-weight: bold\" if v == x_min else \"\" for v in x]\n"
   ]
  },
  {
   "cell_type": "code",
   "execution_count": 14,
   "id": "42fd3e72",
   "metadata": {},
   "outputs": [],
   "source": [
    "# Alpha tuning using AIC\n",
    "# We will measure time also \n",
    "lasso_lars_aic = make_pipeline(StandardScaler(), LassoLarsIC(criterion=\"aic\", normalize=False))\n",
    "\n",
    "# Model on 20% training set\n",
    "start_time = time.time()\n",
    "model_aic_2a = lasso_lars_aic.fit(x_train20, y_train20)\n",
    "fit_time_aic_2a = time.time() - start_time\n",
    "\n",
    "# saving the results\n",
    "results_2a = pd.DataFrame(\n",
    "    {\n",
    "        \"alphas\": model_aic_2a[-1].alphas_,\n",
    "        \"AIC_criterion_20\": model_aic_2a[-1].criterion_,\n",
    "    }\n",
    ").set_index(\"alphas\")\n",
    "alpha_aic_2a = model_aic_2a[-1].alpha_\n",
    "\n",
    "# Alpha tuning using BIC\n",
    "# We will measure time also \n",
    "lasso_lars_bic = make_pipeline(StandardScaler(), LassoLarsIC(criterion=\"bic\", normalize=False))\n",
    "\n",
    "# Model on 20% training set\n",
    "start_time = time.time()\n",
    "model_bic_2a = lasso_lars_bic.fit(x_train20, y_train20)\n",
    "fit_time_bic_2a = time.time() - start_time\n",
    "\n",
    "# saving the results\n",
    "results_2a[\"BIC_criterion_20\"] = model_bic_2a[-1].criterion_\n",
    "alpha_bic_2a = model_bic_2a[-1].alpha_\n"
   ]
  },
  {
   "cell_type": "code",
   "execution_count": 15,
   "id": "9c8886c6",
   "metadata": {
    "scrolled": true
   },
   "outputs": [
    {
     "data": {
      "text/html": [
       "<style type=\"text/css\">\n",
       "#T_68a77_row7_col0, #T_68a77_row7_col1 {\n",
       "  font-weight: bold;\n",
       "}\n",
       "</style>\n",
       "<table id=\"T_68a77_\">\n",
       "  <thead>\n",
       "    <tr>\n",
       "      <th class=\"blank level0\" >&nbsp;</th>\n",
       "      <th class=\"col_heading level0 col0\" >AIC_criterion_20</th>\n",
       "      <th class=\"col_heading level0 col1\" >BIC_criterion_20</th>\n",
       "    </tr>\n",
       "    <tr>\n",
       "      <th class=\"index_name level0\" >alphas</th>\n",
       "      <th class=\"blank col0\" >&nbsp;</th>\n",
       "      <th class=\"blank col1\" >&nbsp;</th>\n",
       "    </tr>\n",
       "  </thead>\n",
       "  <tbody>\n",
       "    <tr>\n",
       "      <th id=\"T_68a77_level0_row0\" class=\"row_heading level0 row0\" >6.190637665193911</th>\n",
       "      <td id=\"T_68a77_row0_col0\" class=\"data row0 col0\" >729.442522</td>\n",
       "      <td id=\"T_68a77_row0_col1\" class=\"data row0 col1\" >729.442522</td>\n",
       "    </tr>\n",
       "    <tr>\n",
       "      <th id=\"T_68a77_level0_row1\" class=\"row_heading level0 row1\" >4.416581790765678</th>\n",
       "      <td id=\"T_68a77_row1_col0\" class=\"data row1 col0\" >588.782330</td>\n",
       "      <td id=\"T_68a77_row1_col1\" class=\"data row1 col1\" >591.151778</td>\n",
       "    </tr>\n",
       "    <tr>\n",
       "      <th id=\"T_68a77_level0_row2\" class=\"row_heading level0 row2\" >2.630695496451875</th>\n",
       "      <td id=\"T_68a77_row2_col0\" class=\"data row2 col0\" >490.250699</td>\n",
       "      <td id=\"T_68a77_row2_col1\" class=\"data row2 col1\" >494.989595</td>\n",
       "    </tr>\n",
       "    <tr>\n",
       "      <th id=\"T_68a77_level0_row3\" class=\"row_heading level0 row3\" >0.844324730206622</th>\n",
       "      <td id=\"T_68a77_row3_col0\" class=\"data row3 col0\" >418.677468</td>\n",
       "      <td id=\"T_68a77_row3_col1\" class=\"data row3 col1\" >425.785812</td>\n",
       "    </tr>\n",
       "    <tr>\n",
       "      <th id=\"T_68a77_level0_row4\" class=\"row_heading level0 row4\" >0.5432094844792763</th>\n",
       "      <td id=\"T_68a77_row4_col0\" class=\"data row4 col0\" >414.887709</td>\n",
       "      <td id=\"T_68a77_row4_col1\" class=\"data row4 col1\" >424.365501</td>\n",
       "    </tr>\n",
       "    <tr>\n",
       "      <th id=\"T_68a77_level0_row5\" class=\"row_heading level0 row5\" >0.37730922788990084</th>\n",
       "      <td id=\"T_68a77_row5_col0\" class=\"data row5 col0\" >414.699938</td>\n",
       "      <td id=\"T_68a77_row5_col1\" class=\"data row5 col1\" >426.547177</td>\n",
       "    </tr>\n",
       "    <tr>\n",
       "      <th id=\"T_68a77_level0_row6\" class=\"row_heading level0 row6\" >0.2049387890834534</th>\n",
       "      <td id=\"T_68a77_row6_col0\" class=\"data row6 col0\" >413.044232</td>\n",
       "      <td id=\"T_68a77_row6_col1\" class=\"data row6 col1\" >424.891471</td>\n",
       "    </tr>\n",
       "    <tr>\n",
       "      <th id=\"T_68a77_level0_row7\" class=\"row_heading level0 row7\" >0.005912909531144904</th>\n",
       "      <td id=\"T_68a77_row7_col0\" class=\"data row7 col0\" >412.361871</td>\n",
       "      <td id=\"T_68a77_row7_col1\" class=\"data row7 col1\" >424.209110</td>\n",
       "    </tr>\n",
       "    <tr>\n",
       "      <th id=\"T_68a77_level0_row8\" class=\"row_heading level0 row8\" >0.0</th>\n",
       "      <td id=\"T_68a77_row8_col0\" class=\"data row8 col0\" >414.351348</td>\n",
       "      <td id=\"T_68a77_row8_col1\" class=\"data row8 col1\" >428.568035</td>\n",
       "    </tr>\n",
       "  </tbody>\n",
       "</table>\n"
      ],
      "text/plain": [
       "<pandas.io.formats.style.Styler at 0x27b37e22d60>"
      ]
     },
     "execution_count": 15,
     "metadata": {},
     "output_type": "execute_result"
    }
   ],
   "source": [
    "results_2a.style.apply(highlight_min_alpha)"
   ]
  },
  {
   "cell_type": "code",
   "execution_count": 16,
   "id": "bb65b09c",
   "metadata": {},
   "outputs": [
    {
     "data": {
      "image/png": "[encoded data removed]",
      "text/plain": [
       "<Figure size 432x288 with 1 Axes>"
      ]
     },
     "metadata": {
      "needs_background": "light"
     },
     "output_type": "display_data"
    }
   ],
   "source": [
    "# Plotting the results\n",
    "ax = results_2a.plot()\n",
    "ax.vlines(\n",
    "    alpha_bic_2a,\n",
    "    results_2a[\"BIC_criterion_20\"].min(),\n",
    "    results_2a[\"BIC_criterion_20\"].max(),\n",
    "    label=\"alpha: BIC estimate\",\n",
    "    linestyle=\"--\",\n",
    "    color=\"tab:orange\",\n",
    ")\n",
    "ax.vlines(\n",
    "    alpha_aic_2a,\n",
    "    results_2a[\"AIC_criterion_20\"].min(),\n",
    "    results_2a[\"AIC_criterion_20\"].max(),\n",
    "    label=\"alpha: AIC estimate\",\n",
    "    linestyles=\"--\",\n",
    "    color=\"tab:blue\",\n",
    ")\n",
    "\n",
    "ax.set_xlabel(r\"$\\alpha$\")\n",
    "ax.set_ylabel(\"criterion\")\n",
    "ax.set_xscale(\"log\")\n",
    "ax.legend()\n",
    "_ = ax.set_title(\n",
    "    f\"Information-criterion for model selection using 20% as training data\"\n",
    ")"
   ]
  },
  {
   "cell_type": "markdown",
   "id": "a865b5f0",
   "metadata": {},
   "source": [
    "We see that for small training data AIC and BIC tuning for alpha gives almost same values. AIC and BIC both in the case are converging at the same alpha, so we will use that for our model."
   ]
  },
  {
   "cell_type": "code",
   "execution_count": 17,
   "id": "3eaa455a",
   "metadata": {},
   "outputs": [
    {
     "name": "stdout",
     "output_type": "stream",
     "text": [
      "Residual sum of squares 3856.6550471352507 \n",
      "\n",
      "Mean Squared Error on prediction 3.4770429583147666 \n",
      "\n",
      "R squared 0.8079610259932197\n"
     ]
    }
   ],
   "source": [
    "# define model- using lambda from min aic and bic from above analysis\n",
    "lasso_model_20 = make_pipeline(StandardScaler(),Lasso(alpha=alpha_aic_2a))\n",
    "\n",
    "# fit model\n",
    "model_2a = lasso_model_20.fit(x_train20, y_train20)\n",
    "\n",
    "# prediction\n",
    "y_pred80_2a = model_2a.predict(x_test80)\n",
    "print(\"Residual sum of squares\", sum((y_pred80_2a-y_test80)**2), \"\\n\")\n",
    "print(\"Mean Squared Error on prediction\",np.sqrt(mean_squared_error(y_test80,y_pred80_2a)),\"\\n\")\n",
    "print(\"R squared\", r2_score(y_test80, y_pred80_2a))"
   ]
  },
  {
   "cell_type": "code",
   "execution_count": 18,
   "id": "ffa4a053",
   "metadata": {},
   "outputs": [],
   "source": [
    "# Alpha tuning using AIC\n",
    "\n",
    "# Model on 80% training set\n",
    "start_time = time.time()\n",
    "model_aic_2b = lasso_lars_aic.fit(x_train80, y_train80)\n",
    "fit_time_aic_2b = time.time() - start_time\n",
    "\n",
    "# saving the results\n",
    "results_2b = pd.DataFrame(\n",
    "    {\n",
    "        \"alphas\": model_aic_2b[-1].alphas_,\n",
    "        \"AIC_criterion_80\": model_aic_2b[-1].criterion_,\n",
    "    }\n",
    ").set_index(\"alphas\")\n",
    "alpha_aic_2b = model_aic_2b[-1].alpha_\n",
    "\n",
    "# Alpha tuning using BIC\n",
    "\n",
    "# Model on 80% training set\n",
    "start_time = time.time()\n",
    "model_bic_2b = lasso_lars_bic.fit(x_train80, y_train80)\n",
    "fit_time_bic_2b = time.time() - start_time\n",
    "\n",
    "# saving the results\n",
    "results_2b[\"BIC_criterion_80\"] = model_bic_2b[-1].criterion_\n",
    "alpha_bic_2b = model_bic_2b[-1].alpha_\n"
   ]
  },
  {
   "cell_type": "code",
   "execution_count": 19,
   "id": "75577538",
   "metadata": {},
   "outputs": [
    {
     "data": {
      "text/html": [
       "<style type=\"text/css\">\n",
       "#T_f9daf_row4_col1, #T_f9daf_row6_col0 {\n",
       "  font-weight: bold;\n",
       "}\n",
       "</style>\n",
       "<table id=\"T_f9daf_\">\n",
       "  <thead>\n",
       "    <tr>\n",
       "      <th class=\"blank level0\" >&nbsp;</th>\n",
       "      <th class=\"col_heading level0 col0\" >AIC_criterion_80</th>\n",
       "      <th class=\"col_heading level0 col1\" >BIC_criterion_80</th>\n",
       "    </tr>\n",
       "    <tr>\n",
       "      <th class=\"index_name level0\" >alphas</th>\n",
       "      <th class=\"blank col0\" >&nbsp;</th>\n",
       "      <th class=\"blank col1\" >&nbsp;</th>\n",
       "    </tr>\n",
       "  </thead>\n",
       "  <tbody>\n",
       "    <tr>\n",
       "      <th id=\"T_f9daf_level0_row0\" class=\"row_heading level0 row0\" >6.495785043358148</th>\n",
       "      <td id=\"T_f9daf_row0_col0\" class=\"data row0 col0\" >3097.723324</td>\n",
       "      <td id=\"T_f9daf_row0_col1\" class=\"data row0 col1\" >3097.723324</td>\n",
       "    </tr>\n",
       "    <tr>\n",
       "      <th id=\"T_f9daf_level0_row1\" class=\"row_heading level0 row1\" >3.932714506238795</th>\n",
       "      <td id=\"T_f9daf_row1_col0\" class=\"data row1 col0\" >2342.346955</td>\n",
       "      <td id=\"T_f9daf_row1_col1\" class=\"data row1 col1\" >2346.109007</td>\n",
       "    </tr>\n",
       "    <tr>\n",
       "      <th id=\"T_f9daf_level0_row2\" class=\"row_heading level0 row2\" >1.8086246494163476</th>\n",
       "      <td id=\"T_f9daf_row2_col0\" class=\"data row2 col0\" >1824.499981</td>\n",
       "      <td id=\"T_f9daf_row2_col1\" class=\"data row2 col1\" >1832.024084</td>\n",
       "    </tr>\n",
       "    <tr>\n",
       "      <th id=\"T_f9daf_level0_row3\" class=\"row_heading level0 row3\" >1.161620866815391</th>\n",
       "      <td id=\"T_f9daf_row3_col0\" class=\"data row3 col0\" >1744.475350</td>\n",
       "      <td id=\"T_f9daf_row3_col1\" class=\"data row3 col1\" >1755.761504</td>\n",
       "    </tr>\n",
       "    <tr>\n",
       "      <th id=\"T_f9daf_level0_row4\" class=\"row_heading level0 row4\" >0.06257678637818519</th>\n",
       "      <td id=\"T_f9daf_row4_col0\" class=\"data row4 col0\" >1678.432972</td>\n",
       "      <td id=\"T_f9daf_row4_col1\" class=\"data row4 col1\" >1693.481178</td>\n",
       "    </tr>\n",
       "    <tr>\n",
       "      <th id=\"T_f9daf_level0_row5\" class=\"row_heading level0 row5\" >0.048762371665284104</th>\n",
       "      <td id=\"T_f9daf_row5_col0\" class=\"data row5 col0\" >1678.240894</td>\n",
       "      <td id=\"T_f9daf_row5_col1\" class=\"data row5 col1\" >1697.051151</td>\n",
       "    </tr>\n",
       "    <tr>\n",
       "      <th id=\"T_f9daf_level0_row6\" class=\"row_heading level0 row6\" >0.0</th>\n",
       "      <td id=\"T_f9daf_row6_col0\" class=\"data row6 col0\" >1676.349648</td>\n",
       "      <td id=\"T_f9daf_row6_col1\" class=\"data row6 col1\" >1698.921956</td>\n",
       "    </tr>\n",
       "  </tbody>\n",
       "</table>\n"
      ],
      "text/plain": [
       "<pandas.io.formats.style.Styler at 0x27b3bafd850>"
      ]
     },
     "execution_count": 19,
     "metadata": {},
     "output_type": "execute_result"
    }
   ],
   "source": [
    "results_2b.style.apply(highlight_min_alpha)"
   ]
  },
  {
   "cell_type": "code",
   "execution_count": 20,
   "id": "91801bd5",
   "metadata": {},
   "outputs": [
    {
     "data": {
      "image/png": "[encoded data removed]",
      "text/plain": [
       "<Figure size 432x288 with 1 Axes>"
      ]
     },
     "metadata": {
      "needs_background": "light"
     },
     "output_type": "display_data"
    }
   ],
   "source": [
    "# Plotting the results\n",
    "ax = results_2b.plot()\n",
    "ax.vlines(\n",
    "    alpha_bic_2b,\n",
    "    results_2b[\"BIC_criterion_80\"].min(),\n",
    "    results_2b[\"BIC_criterion_80\"].max(),\n",
    "    label=\"alpha: BIC estimate\",\n",
    "    linestyle=\"--\",\n",
    "    color=\"tab:orange\",\n",
    ")\n",
    "ax.vlines(\n",
    "    alpha_aic_2a,\n",
    "    results_2b[\"AIC_criterion_80\"].min(),\n",
    "    results_2b[\"AIC_criterion_80\"].max(),\n",
    "    label=\"alpha: AIC estimate\",\n",
    "    linestyles=\"--\",\n",
    "    color=\"tab:blue\",\n",
    ")\n",
    "\n",
    "ax.set_xlabel(r\"$\\alpha$\")\n",
    "ax.set_ylabel(\"criterion\")\n",
    "ax.set_xscale(\"log\")\n",
    "ax.legend()\n",
    "_ = ax.set_title(\n",
    "    f\"Information-criterion for model selection using 20% as training data\"\n",
    ")"
   ]
  },
  {
   "cell_type": "markdown",
   "id": "5fac21fb",
   "metadata": {},
   "source": [
    "In case of larger training data, AIC and BIC are converging at different alpha values. AIC will in general try to find the model that most adequately defines the unknown parameter while BIC will try to determine the true model.  \n",
    "We will go with alpha having the minimum BIC since BIC tries to arrive at the true model."
   ]
  },
  {
   "cell_type": "code",
   "execution_count": 21,
   "id": "966f3473",
   "metadata": {},
   "outputs": [
    {
     "name": "stdout",
     "output_type": "stream",
     "text": [
      "Residual sum of squares 892.591510721909 \n",
      "\n",
      "Mean Squared Error on prediction 3.34026853471751 \n",
      "\n",
      "R squared 0.8072116955271336\n"
     ]
    }
   ],
   "source": [
    "# define model- using lambda from min aic and bic from above analysis\n",
    "lasso_model_80 = make_pipeline(StandardScaler(),Lasso(alpha=alpha_bic_2b))\n",
    "\n",
    "# fit model\n",
    "model_2b = lasso_model_80.fit(x_train80, y_train80)\n",
    "\n",
    "# prediction\n",
    "y_pred20_2b = model_2b.predict(x_test20)\n",
    "print(\"Residual sum of squares\", sum((y_pred20_2b-y_test20)**2), \"\\n\")\n",
    "print(\"Mean Squared Error on prediction\",np.sqrt(mean_squared_error(y_test20,y_pred20_2b)),\"\\n\")\n",
    "print(\"R squared\", r2_score(y_test20, y_pred20_2b))"
   ]
  },
  {
   "cell_type": "markdown",
   "id": "e18b2ae4",
   "metadata": {},
   "source": [
    "In both the models, AIC/BIC are calculated in the in-sample training set. They penalize the over-optimistic error of different lasso models defined by different values of lambda, and this error is calculated on number of degrees of freedom and noise variance. An intelligent search is done between 2 values of alpha by scaling it up or down depending upon the interval gain or loss."
   ]
  },
  {
   "cell_type": "markdown",
   "id": "eb461bc4",
   "metadata": {},
   "source": [
    "### Linear Regression using Cross Validation"
   ]
  },
  {
   "cell_type": "code",
   "execution_count": 22,
   "id": "345a9c9b",
   "metadata": {},
   "outputs": [
    {
     "name": "stdout",
     "output_type": "stream",
     "text": [
      "Coefficients:\n",
      "displacement    0.013451\n",
      "horsepower     -0.018283\n",
      "weight         -0.006263\n",
      "acceleration    0.046046\n",
      "model year      0.775312\n",
      "origin          1.652902\n",
      "dtype: float64 \n",
      "\n",
      "Residual sum of squares 900.8551508229376 \n",
      "\n",
      "R squared 0.8322680391451895 \n",
      "\n",
      "After Cross Validation\n",
      "Score Keys : \n",
      "['fit_time', 'score_time', 'test_score', 'train_score'] \n",
      "\n",
      "Train R Squared Values : \n",
      "[0.81388625 0.81767515 0.80893413 0.81524514 0.8181299  0.80630765\n",
      " 0.81728847 0.81101719 0.8171049  0.82165332] \n",
      "\n",
      "Test R Squared Values : \n",
      "[0.80806138 0.78325556 0.84081877 0.79507985 0.75791481 0.8947835\n",
      " 0.75858447 0.83527082 0.7804133  0.75195468]\n"
     ]
    }
   ],
   "source": [
    "# Linear regression with cross validation\n",
    "linear_model = LinearRegression()\n",
    "\n",
    "# 80% training data\n",
    "x_train80, x_test20, y_train80, y_test20 = train_test_split(x, y,\n",
    "                                                            train_size=0.80,random_state=102)\n",
    "\n",
    "# fit model\n",
    "model_3 = linear_model.fit(x_train80, y_train80)\n",
    "# check the coefficients\n",
    "print(\"Coefficients:\")\n",
    "print(pd.Series(model_3.coef_, index = x_train80.columns ),\"\\n\")\n",
    "\n",
    "# prediction\n",
    "y_pred20_3 = model_3.predict(x_test20)\n",
    "print(\"Residual sum of squares\", sum((y_pred20_3-y_test20)**2), \"\\n\")\n",
    "#print(\"Mean Squared Error on prediction\",np.sqrt(mean_squared_error(y_test20,y_pred20_3)),\"\\n\")\n",
    "print(\"R squared\", r2_score(y_test20, y_pred20_3), \"\\n\")\n",
    "\n",
    "\n",
    "# run cross validation\n",
    "scores = cross_validate(linear_model, x_train80, y_train80, cv=10,\n",
    "                        scoring=('r2'),\n",
    "                        return_train_score=True)\n",
    "\n",
    "# keys\n",
    "print(\"After Cross Validation\")\n",
    "print(\"Score Keys : \")\n",
    "print(sorted(scores.keys()),\"\\n\")\n",
    "\n",
    "print(\"Train R Squared Values : \")\n",
    "print(scores['train_score'],\"\\n\")\n",
    "print(\"Test R Squared Values : \")\n",
    "print(scores['test_score'])"
   ]
  },
  {
   "cell_type": "code",
   "execution_count": 23,
   "id": "c2d2d958",
   "metadata": {},
   "outputs": [
    {
     "data": {
      "text/plain": [
       "0.8006137144871831"
      ]
     },
     "execution_count": 23,
     "metadata": {},
     "output_type": "execute_result"
    }
   ],
   "source": [
    "np.mean(scores['test_score'])"
   ]
  },
  {
   "cell_type": "markdown",
   "id": "e3c36a31",
   "metadata": {},
   "source": [
    "R squared value from linear regression model is ~83%.   \n",
    "After doing cross validation, we see that usually test r-sq values are lower than train r-sq values, which is expected since we are using 80% training data. But our original linear regression model is comparable to the mean r squared values of test scores we got from cross validation which means our model is neither under fitted nor over fitted. "
   ]
  },
  {
   "cell_type": "markdown",
   "id": "b789c23e",
   "metadata": {},
   "source": [
    "### Comparing all models"
   ]
  },
  {
   "cell_type": "code",
   "execution_count": 24,
   "id": "5b4b0121",
   "metadata": {},
   "outputs": [],
   "source": [
    "# define aic\n",
    "def calculate_aic(n, sse, k):\n",
    "    aic = n * np.log(sse/n) + 2 * k\n",
    "    return aic\n",
    "\n",
    "# define bic\n",
    "def calculate_bic(n, sse, k):\n",
    "    bic = n * np.log(sse/n) + k * np.log(n)\n",
    "    return bic\n",
    "\n",
    "def calculate_aicc(n,sse,k):\n",
    "    aicc = n * np.log(sse/n) + (2 * k * n / (n - k - 1))\n",
    "    return aicc\n",
    "\n",
    "# number of params same across all models\n",
    "k = 7"
   ]
  },
  {
   "cell_type": "code",
   "execution_count": 25,
   "id": "2e5d052c",
   "metadata": {},
   "outputs": [
    {
     "name": "stdout",
     "output_type": "stream",
     "text": [
      "20% training data :\n",
      "AIC - Part 1 model with default lambda: 342.06\n",
      "BIC - Part 1 model with default lambda: 358.65\n",
      "AICC - Part 1 model with default lambda: 343.64 \n",
      "\n",
      "AIC - Part 2 model with tuned lambda: 321.16\n",
      "BIC - Part 2 model with tuned lambda: 337.75\n",
      "AICC - Part 2 model with tuned lambda: 322.74 \n",
      "\n",
      "80% training data :\n",
      "AIC - Part 1 model with default lambda: 1027.42\n",
      "BIC - Part 1 model with default lambda: 1053.75\n",
      "AICC - Part 1 model with default lambda: 1027.78 \n",
      "\n",
      "AIC - Part 2 model with tuned lambda: 1065.68\n",
      "BIC - Part 2 model with tuned lambda: 1092.02\n",
      "AICC - Part 2 model with tuned lambda: 1066.04 \n",
      "\n"
     ]
    }
   ],
   "source": [
    "# Part 1 model on 20% data\n",
    "print(\"20% training data :\")\n",
    "n = x_train20.shape[0]\n",
    "sse = sum((y_pred80-y_test80)**2)\n",
    "aic_1a_20 = calculate_aic(n,sse,k)\n",
    "bic_1a_20 = calculate_bic(n,sse,k)\n",
    "aicc_1a_20 = calculate_aicc(n,sse,k)\n",
    "print(\"AIC - Part 1 model with default lambda:\", round(aic_1a_20,2))\n",
    "print(\"BIC - Part 1 model with default lambda:\", round(bic_1a_20,2))\n",
    "print(\"AICC - Part 1 model with default lambda:\", round(aicc_1a_20,2),\"\\n\")\n",
    "\n",
    "# Part 2 model on 20% data\n",
    "n = x_train20.shape[0]\n",
    "sse = sum((y_pred80_2a-y_test80)**2)\n",
    "aic_1a_20 = calculate_aic(n,sse,k)\n",
    "bic_1a_20 = calculate_bic(n,sse,k)\n",
    "aicc_1a_20 = calculate_aicc(n,sse,k)\n",
    "print(\"AIC - Part 2 model with tuned lambda:\", round(aic_1a_20,2))\n",
    "print(\"BIC - Part 2 model with tuned lambda:\", round(bic_1a_20,2))\n",
    "print(\"AICC - Part 2 model with tuned lambda:\", round(aicc_1a_20,2),\"\\n\")\n",
    "\n",
    "# Part 1 model on 80% data\n",
    "print(\"80% training data :\")\n",
    "n = x_train80.shape[0]\n",
    "sse = sum((y_pred20-y_test20)**2)\n",
    "aic_1a_20 = calculate_aic(n,sse,k)\n",
    "bic_1a_20 = calculate_bic(n,sse,k)\n",
    "aicc_1a_20 = calculate_aicc(n,sse,k)\n",
    "print(\"AIC - Part 1 model with default lambda:\", round(aic_1a_20,2))\n",
    "print(\"BIC - Part 1 model with default lambda:\", round(bic_1a_20,2))\n",
    "print(\"AICC - Part 1 model with default lambda:\", round(aicc_1a_20,2),\"\\n\")\n",
    "\n",
    "# Part 2 model on 80% data\n",
    "n = x_train80.shape[0]\n",
    "sse = sum((y_pred20_2b-y_test20)**2)\n",
    "aic_1a_20 = calculate_aic(n,sse,k)\n",
    "bic_1a_20 = calculate_bic(n,sse,k)\n",
    "aicc_1a_20 = calculate_aicc(n,sse,k)\n",
    "print(\"AIC - Part 2 model with tuned lambda:\", round(aic_1a_20,2))\n",
    "print(\"BIC - Part 2 model with tuned lambda:\", round(bic_1a_20,2))\n",
    "print(\"AICC - Part 2 model with tuned lambda:\", round(aicc_1a_20,2),\"\\n\")\n"
   ]
  },
  {
   "cell_type": "markdown",
   "id": "48b67cf6",
   "metadata": {},
   "source": [
    "AIC, BIC and AICc are dependent on the number of sample data. So we can't compare models who are fitted on 20% and 80% training data with each other. SO we will compare them in categories only.    \n",
    "\n",
    "For 20% training data   \n",
    "AIC - part 2 model is better   \n",
    "BIC - part 2 model is better    \n",
    "AICc - part 2 model is better   \n",
    "\n",
    "For 80% training data     \n",
    "AIC - part 1 and part 2 are almost similar but part 1 is slightly better      \n",
    "BIC - part 1 is better     \n",
    "AICc - part 1 is better   \n",
    "\n",
    "We also see that BIC is always more than AIC. That is because BIC applies a much higher penalty when the sample data is large and model is complex. For AIC we know, the penalty is 2 * number of parameters while for BIC penalty is ln(n) * number of parameters. When n is large, the penalty will be higher for BIC.      \n",
    "\n",
    "For smaller training data, we can see that AICC is smaller than AIC while for large training data AICC and AIC are almost same. This happens because in case of smaller training data, AIC is biased in the sense that it is over fitted. That's why we use AICC to get more correct approximation for OOS deviance. \n",
    "\n"
   ]
  },
  {
   "cell_type": "markdown",
   "id": "c0946c42",
   "metadata": {},
   "source": [
    "\n"
   ]
  }
 ],
 "metadata": {
  "kernelspec": {
   "display_name": "Python 3 (ipykernel)",
   "language": "python",
   "name": "python3"
  },
  "language_info": {
   "codemirror_mode": {
    "name": "ipython",
    "version": 3
   },
   "file_extension": ".py",
   "mimetype": "text/x-python",
   "name": "python",
   "nbconvert_exporter": "python",
   "pygments_lexer": "ipython3",
   "version": "3.9.6"
  }
 },
 "nbformat": 4,
 "nbformat_minor": 5
}
